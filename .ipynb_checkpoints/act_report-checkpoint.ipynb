{
 "cells": [
  {
   "cell_type": "markdown",
   "metadata": {},
   "source": [
    "# Article: Investigating WeRateDogs for cool insights"
   ]
  },
  {
   "cell_type": "markdown",
   "metadata": {},
   "source": [
    "WeRateDogs is a Twitter account that rates people's dogs with a humorous comment about the dog. The account was started in 2015 by college student Matt Nelson, and has received international media attention for its popularity.\n",
    "\n",
    "WeRateDogs asks people to send photos of their dogs, then tweets selected photos rating and a humorous comment. Dogs are rated on a scale of one to ten, but are invariably given ratings in excess of the maximum, such as \"13/10\". Popular posts are re-posted on Instagram and Facebook. <a href='https://en.wikipedia.org/wiki/WeRateDogs'>Wikipedia</a>\n",
    "\n",
    "In this article I will reveal some interesting insights that I discoverd after a neat analysis of WeRateDogs tweets in the period from 2015-11-15 to 2017-08-01. The analysis was produced on the most accurate and clean tweets which are 1810 tweets, also I have used data produced by an image prediction algorithm that predicted the breed of the dog mentioned in each tweet using the attached photo on twitter.  "
   ]
  },
  {
   "cell_type": "markdown",
   "metadata": {},
   "source": [
    "### Insight 1: How many tweets does WeRateDogs post monthly?\n",
    "\n",
    "On average, WeRateDogs posts 82 tweets monthly, however, starting from 2016 the number of tweets per month decreased significantly.\n",
    "\n",
    "<img src='imgs/5.png'>"
   ]
  },
  {
   "cell_type": "markdown",
   "metadata": {},
   "source": [
    "### Insight 2: How does WeRateDogs post their tweets?\n",
    "\n",
    "Most of the time, WeRateDogs posts tweets using iPhone twitter app, but for rare times they use a web browser and <a href='https://en.wikipedia.org/wiki/TweetDeck'>TweetDeck</a>\n",
    "\n",
    "<img src='imgs/6.png'>"
   ]
  },
  {
   "cell_type": "markdown",
   "metadata": {},
   "source": [
    "### Insight 3: Average dogs rating in WeRateDogs tweets\n",
    "\n",
    "The average rating is 10.9.\n",
    "\n",
    "<img src='imgs/7.png'>"
   ]
  },
  {
   "cell_type": "markdown",
   "metadata": {},
   "source": [
    "### Insight 4: Top 10 names used in WeRateDogs\n",
    "\n",
    "Charlie is the most used name for dogs in WeRateDogs tweets\n",
    "\n",
    "<img src='imgs/8.png'>"
   ]
  },
  {
   "cell_type": "markdown",
   "metadata": {},
   "source": [
    "### Insight 5: Top 3 retweeted tweets\n",
    "\n",
    "- 78,844 retweets\n",
    "<img src='imgs/4.png' width=350>\n",
    "\n",
    "- 58,455 retweets\n",
    "<img src='imgs/10.png' width=350>\n",
    "\n",
    "- 57,509 retweets\n",
    "<img src='imgs/11.png' width=350>"
   ]
  },
  {
   "cell_type": "markdown",
   "metadata": {},
   "source": [
    "### Insight 6: Top 3 liked tweets\n",
    "\n",
    "- 158,198 likes\n",
    "<img src='imgs/4.png' width=350>\n",
    "\n",
    "- 134,857 likes\n",
    "<img src='imgs/12.png' width=350>\n",
    "\n",
    "- 122,166 likes\n",
    "<img src='imgs/11.png' width=350>"
   ]
  },
  {
   "cell_type": "markdown",
   "metadata": {},
   "source": [
    "### Insight 7: Number of different dogs breeds predicted from WeRateDogs photos\n",
    "\n",
    "113 unique different breeds were predicted from WeRateDogs, where the most predicted breeds are shown below.\n",
    "\n",
    "<img src='imgs/13.png'>"
   ]
  },
  {
   "cell_type": "markdown",
   "metadata": {},
   "source": [
    "### Insight 8: The retweets and favorite counts average of top 10 dog breeds found in WeRateDogs \n",
    "\n",
    "<img src='imgs/14.png'>"
   ]
  }
 ],
 "metadata": {
  "kernelspec": {
   "display_name": "Python 3",
   "language": "python",
   "name": "python3"
  },
  "language_info": {
   "codemirror_mode": {
    "name": "ipython",
    "version": 3
   },
   "file_extension": ".py",
   "mimetype": "text/x-python",
   "name": "python",
   "nbconvert_exporter": "python",
   "pygments_lexer": "ipython3",
   "version": "3.7.3"
  }
 },
 "nbformat": 4,
 "nbformat_minor": 2
}
